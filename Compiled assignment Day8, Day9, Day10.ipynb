{
 "cells": [
  {
   "cell_type": "markdown",
   "id": "97839af6",
   "metadata": {},
   "source": [
    "# Assignment 9\n",
    "\n",
    "# Ask a user for his or her appointment date and calculate how many weeks and days the user has until that appointment date from current date"
   ]
  },
  {
   "cell_type": "code",
   "execution_count": 20,
   "id": "71b70cf9",
   "metadata": {},
   "outputs": [
    {
     "name": "stdout",
     "output_type": "stream",
     "text": [
      "Please provide a date in this format(d/m/Y)25/12/2022\n",
      "2022-12-25\n"
     ]
    },
    {
     "data": {
      "text/plain": [
       "datetime.timedelta(days=92)"
      ]
     },
     "execution_count": 20,
     "metadata": {},
     "output_type": "execute_result"
    }
   ],
   "source": [
    "import datetime\n",
    "date = datetime.date(2022,5,28)\n",
    "date\n",
    "currentdate = datetime.date.today()\n",
    "currentdate\n",
    "cdate = input('Please provide a date in this format(d/m/Y)')\n",
    "date2 = datetime.datetime.strptime(cdate,'%d/%m/%Y').date()\n",
    "print(date2)\n",
    "currentdate - date"
   ]
  },
  {
   "cell_type": "code",
   "execution_count": 26,
   "id": "848b3812",
   "metadata": {},
   "outputs": [
    {
     "data": {
      "text/plain": [
       "datetime.date(2022, 12, 25)"
      ]
     },
     "execution_count": 26,
     "metadata": {},
     "output_type": "execute_result"
    }
   ],
   "source": [
    "td = datetime.timedelta(weeks=17)\n",
    "currentdate +td"
   ]
  },
  {
   "cell_type": "code",
   "execution_count": 28,
   "id": "03767b68",
   "metadata": {},
   "outputs": [
    {
     "data": {
      "text/plain": [
       "23"
      ]
     },
     "execution_count": 28,
     "metadata": {},
     "output_type": "execute_result"
    }
   ],
   "source": [
    "ed = datetime.date(2022,5,28)\n",
    "trnd = ed - currentdate\n",
    "trnd.days // -4"
   ]
  },
  {
   "cell_type": "markdown",
   "id": "ca0eb30f",
   "metadata": {},
   "source": [
    "# Assignment 8\n",
    "\n",
    "# Develop an IQ test program"
   ]
  },
  {
   "cell_type": "code",
   "execution_count": 83,
   "id": "91f220d0",
   "metadata": {},
   "outputs": [
    {
     "name": "stdout",
     "output_type": "stream",
     "text": [
      "Please provide your name:Gift\n",
      "please provide your age:26\n",
      "How many part is computer divided into:4\n",
      "How many types of programming did we considered:2\n",
      "What culture is:Way of life\n",
      "What is data:Facts and statistics\n",
      "What is democracy:System of government\n",
      "How many brand of laptop do we have:8\n",
      "How many data type did we considered:2\n",
      "What is Wifi  used for:For connection\n",
      "How many legs does a dog have:4\n",
      "How many types of variable do we have:4\n",
      "Your score is 15 in 67 time therefore you are Average\n"
     ]
    }
   ],
   "source": [
    "answer_to_question = {\n",
    "    'Q1':[4,5,2,3,6],\n",
    "    'Q2':[5,10,2,11,5],\n",
    "    'Q3':['Way of life','Citizen right','Company Alliance'],\n",
    "    'Q4':['Information','Facts and statistics','Variables','Values'],\n",
    "    'Q5':['System of government','actual right','federalism','Nigeria law'],\n",
    "    'Q6':[8,7,5,4,6],\n",
    "    'Q7':[2,4,3,6],\n",
    "    'Q8':['For connection','to advertise','to decorate the office'],\n",
    "    'Q9':[14,4,10,8,19],\n",
    "    'Q10':[4,5,10,7,3]\n",
    "}\n",
    "Name = input('Please provide your name:')\n",
    "age = float(input('please provide your age:'))\n",
    "quizscore = 0\n",
    "starttime = datetime.datetime.now()\n",
    "answer = int(input('How many part is computer divided into:'))\n",
    "if answer == answer_to_question['Q1'][2]:\n",
    "    quizscore = quizscore + 5\n",
    "else:\n",
    "    quizscore + 0\n",
    "    \n",
    "answer = int(input('How many types of programming did we considered:'))\n",
    "if answer == answer_to_question['Q2'][2]:\n",
    "    quizscore = quizscore + 5\n",
    "else:\n",
    "    quizscore + 0\n",
    "answer = input('What culture is:')\n",
    "if answer == answer_to_question['Q3'][0]:\n",
    "    quizscore = quizscore + 5\n",
    "else:\n",
    "    quizscore + 0\n",
    "    \n",
    "answer = input('What is data:')\n",
    "if answer == answer_to_question['Q4'][3]:\n",
    "    quizscore = quizscore + 5\n",
    "else:\n",
    "    quizscore + 0\n",
    "    \n",
    "answer = input('What is democracy:')\n",
    "if answer == answer_to_question['Q5'][1]:\n",
    "    quizscore = quizscore + 5\n",
    "else:\n",
    "    quizscore + 0\n",
    "\n",
    "answer = int(input('How many brand of laptop do we have:'))\n",
    "if answer == answer_to_question['Q6'][4]:\n",
    "    quizscore = quizscore + 5\n",
    "else:\n",
    "    quizscore + 0\n",
    "    \n",
    "answer = int(input('How many data type did we considered:'))\n",
    "if answer == answer_to_question['Q7'][1]:\n",
    "    quizscore = quizscore + 5\n",
    "else:\n",
    "    quizscore + 0\n",
    "    \n",
    "answer = input('What is Wifi  used for:')\n",
    "if answer == answer_to_question['Q8'][0]:\n",
    "    quizscore = quizscore + 5\n",
    "else:\n",
    "    quizscore + 0\n",
    "    \n",
    "answer = int(input('How many legs does a dog have:'))\n",
    "if answer == answer_to_question['Q9'][4]:\n",
    "    quizscore = quizscore + 5\n",
    "else:\n",
    "    quizscore + 0\n",
    "    \n",
    "answer = int(input('How many types of variable do we have:'))\n",
    "if answer == answer_to_question['Q10'][2]:\n",
    "    quizscore = quizscore + 5\n",
    "else:\n",
    "    quizscore + 0\n",
    "stoptime =  datetime.datetime.now()\n",
    "diff = stoptime - starttime\n",
    "iqtest = (quizscore/age) * 50\n",
    "\n",
    "if iqtest  <= 20:\n",
    "    print(f'Your score is {quizscore} in {diff.seconds} time therefore you are extremely low')\n",
    "elif iqtest  >= 5 and iqtest <= 9:\n",
    "    print(f'Your score is {quizscore} in {diff.seconds} time therefore you are very low')\n",
    "elif iqtest  >= 10 and iqtest <= 19:\n",
    "    print(f'Your score is {quizscore} in {diff.seconds} time therefore you are Averagely low')\n",
    "elif iqtest  >= 20 and iqtest <= 29:\n",
    "    print(f'Your score is {quizscore} in {diff.seconds} time therefore you are Average')\n",
    "elif iqtest  >= 30 and iqtest <= 39:\n",
    "    print(f'Your score is {quizscore} in {diff.seconds} time therefore you are Highly Average')\n",
    "elif iqtest  >= 40 and iqtest <= 59:\n",
    "    print(f'Your score is {quizscore} in {diff.seconds} time therefore you are Very High')\n",
    "else:\n",
    "    print(f'Your score is {quizscore} in {diff.seconds} time therefore you are extremely High')"
   ]
  },
  {
   "cell_type": "markdown",
   "id": "c43f207f",
   "metadata": {},
   "source": [
    "# Assignment 10\n",
    "\n",
    "\n",
    "# create a table for spanish league, italian league and french league having the same column name as the english premier league. Insert the clubs with their various records"
   ]
  },
  {
   "cell_type": "markdown",
   "id": "c7342637",
   "metadata": {},
   "source": [
    "# Spanish League"
   ]
  },
  {
   "cell_type": "code",
   "execution_count": 34,
   "id": "869a02a7",
   "metadata": {},
   "outputs": [],
   "source": [
    "import pymysql"
   ]
  },
  {
   "cell_type": "code",
   "execution_count": 35,
   "id": "631db28b",
   "metadata": {},
   "outputs": [],
   "source": [
    "mydb = pymysql.connect(\n",
    "    host = 'localhost',\n",
    "    user = 'root',\n",
    "    password = 'opeyemigift2'\n",
    ")\n",
    "mycursor = mydb.cursor()"
   ]
  },
  {
   "cell_type": "code",
   "execution_count": 37,
   "id": "93754f56",
   "metadata": {},
   "outputs": [
    {
     "data": {
      "text/plain": [
       "1"
      ]
     },
     "execution_count": 37,
     "metadata": {},
     "output_type": "execute_result"
    }
   ],
   "source": [
    "mycursor.execute('create database foreignfootballmanagementsystem')"
   ]
  },
  {
   "cell_type": "code",
   "execution_count": 38,
   "id": "97861d8b",
   "metadata": {
    "scrolled": true
   },
   "outputs": [
    {
     "name": "stdout",
     "output_type": "stream",
     "text": [
      "('footballmanagementsystem',)\n",
      "('foreignfootballmanagementsystem',)\n",
      "('information_schema',)\n",
      "('mysql',)\n",
      "('performance_schema',)\n",
      "('sakila',)\n",
      "('sys',)\n",
      "('world',)\n"
     ]
    }
   ],
   "source": [
    "mycursor.execute('show databases')\n",
    "for x in mycursor:\n",
    "    print(x)"
   ]
  },
  {
   "cell_type": "code",
   "execution_count": 39,
   "id": "2827f891",
   "metadata": {},
   "outputs": [],
   "source": [
    "mydb = pymysql.connect(\n",
    "    host = 'localhost',\n",
    "    user = 'root',\n",
    "    password = 'opeyemigift2',\n",
    "    database = 'foreignfootballmanagementsystem'\n",
    ")\n",
    "mycursor = mydb.cursor()"
   ]
  },
  {
   "cell_type": "code",
   "execution_count": 40,
   "id": "e5331e19",
   "metadata": {},
   "outputs": [
    {
     "data": {
      "text/plain": [
       "0"
      ]
     },
     "execution_count": 40,
     "metadata": {},
     "output_type": "execute_result"
    }
   ],
   "source": [
    "mycursor.execute('create table EPI(PositionalID int not null primary key,Team varchar(255) not null,Win int not null,Draw int not null, Lost int not null, GoalFor int not null,GoalAgainst int not null,GoalDifference int not null)')"
   ]
  },
  {
   "cell_type": "code",
   "execution_count": 54,
   "id": "a6f6b160",
   "metadata": {},
   "outputs": [],
   "source": [
    "mycursor.execute('alter table Spanish_league add column Point int not null')"
   ]
  },
  {
   "cell_type": "code",
   "execution_count": 41,
   "id": "c34545a0",
   "metadata": {},
   "outputs": [
    {
     "data": {
      "text/plain": [
       "0"
      ]
     },
     "execution_count": 41,
     "metadata": {},
     "output_type": "execute_result"
    }
   ],
   "source": [
    "mycursor.execute('alter table epi rename to Spanish_League')"
   ]
  },
  {
   "cell_type": "code",
   "execution_count": 42,
   "id": "ff7aea27",
   "metadata": {},
   "outputs": [
    {
     "name": "stdout",
     "output_type": "stream",
     "text": [
      "('spanish_league',)\n"
     ]
    }
   ],
   "source": [
    "mycursor.execute('show tables')\n",
    "for x in mycursor:\n",
    "    print(x)"
   ]
  },
  {
   "cell_type": "code",
   "execution_count": 44,
   "id": "2e688678",
   "metadata": {},
   "outputs": [
    {
     "name": "stdout",
     "output_type": "stream",
     "text": [
      "('PositionalID', 'int', 'NO', 'PRI', None, '')\n",
      "('Team', 'varchar(255)', 'NO', '', None, '')\n",
      "('Win', 'int', 'NO', '', None, '')\n",
      "('Draw', 'int', 'NO', '', None, '')\n",
      "('Lost', 'int', 'NO', '', None, '')\n",
      "('GoalFor', 'int', 'NO', '', None, '')\n",
      "('GoalAgainst', 'int', 'NO', '', None, '')\n",
      "('GoalDifference', 'int', 'NO', '', None, '')\n"
     ]
    }
   ],
   "source": [
    "mycursor.execute('show columns from Spanish_League')\n",
    "for x in mycursor:\n",
    "    print(x)"
   ]
  },
  {
   "cell_type": "code",
   "execution_count": 46,
   "id": "0800f892",
   "metadata": {},
   "outputs": [
    {
     "name": "stdout",
     "output_type": "stream",
     "text": [
      "('PositionalID', 'int', 'NO', 'PRI', None, '')\n",
      "('Team', 'varchar(255)', 'NO', '', None, '')\n",
      "('MatchPlayed', 'int', 'NO', '', None, '')\n",
      "('Win', 'int', 'NO', '', None, '')\n",
      "('Draw', 'int', 'NO', '', None, '')\n",
      "('Lost', 'int', 'NO', '', None, '')\n",
      "('GoalFor', 'int', 'NO', '', None, '')\n",
      "('GoalAgainst', 'int', 'NO', '', None, '')\n",
      "('GoalDifference', 'int', 'NO', '', None, '')\n"
     ]
    }
   ],
   "source": [
    "mycursor.execute('alter table spanish_league add column MatchPlayed int not null after Team')\n",
    "mycursor.execute('show columns from spanish_league')\n",
    "for x in mycursor:\n",
    "    print(x)"
   ]
  },
  {
   "cell_type": "code",
   "execution_count": 55,
   "id": "a5bcb32d",
   "metadata": {},
   "outputs": [],
   "source": [
    "sql = 'insert into spanish_league(PositionalID,Team,MatchPlayed,Win,Draw,Lost,GoalFor,GoalAgainst,Goaldifference,Point) values (%s,%s,%s,%s,%s,%s,%s,%s,%s,%s)'\n",
    "val =[(1,'Real Betis',3,3,0,0,6,1,5,9),\n",
    "     (2,'Villarreal',3,2,1,0,5,0,5,7),\n",
    "     (3,'Real Madrid',2,2,0,0,6,2,4,6),\n",
    "     (4,'Osasuna',3,2,0,1,4,2,2,6),\n",
    "     (5,'Real Sociedad',3,2,0,1,3,4,-1,6),\n",
    "     (6,'Barcelona',3,1,2,0,4,1,3,5),\n",
    "     (7,'Mallorca',3,1,1,1,3,2,1,4),\n",
    "     (8,'Athletic club',2,1,1,0,1,0,1,4),\n",
    "     (9,'Almeria',3,1,1,1,4,4,0,4),\n",
    "     (10,'Rayo Vallecano',3,1,1,1,2,2,0,4)]\n",
    "mycursor.executemany(sql,val)\n",
    "mydb.commit()"
   ]
  },
  {
   "cell_type": "code",
   "execution_count": 56,
   "id": "18632b28",
   "metadata": {},
   "outputs": [
    {
     "name": "stdout",
     "output_type": "stream",
     "text": [
      "(1, 'Real Betis', 3, 3, 0, 0, 6, 1, 5, 9)\n",
      "(2, 'Villarreal', 3, 2, 1, 0, 5, 0, 5, 7)\n",
      "(3, 'Real Madrid', 2, 2, 0, 0, 6, 2, 4, 6)\n",
      "(4, 'Osasuna', 3, 2, 0, 1, 4, 2, 2, 6)\n",
      "(5, 'Real Sociedad', 3, 2, 0, 1, 3, 4, -1, 6)\n",
      "(6, 'Barcelona', 3, 1, 2, 0, 4, 1, 3, 5)\n",
      "(7, 'Mallorca', 3, 1, 1, 1, 3, 2, 1, 4)\n",
      "(8, 'Athletic club', 2, 1, 1, 0, 1, 0, 1, 4)\n",
      "(9, 'Almeria', 3, 1, 1, 1, 4, 4, 0, 4)\n",
      "(10, 'Rayo Vallecano', 3, 1, 1, 1, 2, 2, 0, 4)\n"
     ]
    }
   ],
   "source": [
    "mycursor.execute('select * from Spanish_league')\n",
    "for x in mycursor:\n",
    "    print(x)"
   ]
  },
  {
   "cell_type": "markdown",
   "id": "a8766d8c",
   "metadata": {},
   "source": [
    "# For Italian League"
   ]
  },
  {
   "cell_type": "code",
   "execution_count": 57,
   "id": "2e97bf6b",
   "metadata": {},
   "outputs": [
    {
     "data": {
      "text/plain": [
       "0"
      ]
     },
     "execution_count": 57,
     "metadata": {},
     "output_type": "execute_result"
    }
   ],
   "source": [
    "mycursor.execute('create table ItalianLeague(PositionalID int not null primary key,Team varchar(255) not null,Win int not null,Draw int not null, Lost int not null, GoalFor int not null,GoalAgainst int not null,GoalDifference int not null,Point int not null)')"
   ]
  },
  {
   "cell_type": "code",
   "execution_count": 58,
   "id": "a4d79757",
   "metadata": {},
   "outputs": [
    {
     "name": "stdout",
     "output_type": "stream",
     "text": [
      "('italianleague',)\n",
      "('spanish_league',)\n"
     ]
    }
   ],
   "source": [
    "mycursor.execute('show tables')\n",
    "for x in mycursor:\n",
    "    print(x)"
   ]
  },
  {
   "cell_type": "code",
   "execution_count": 61,
   "id": "61dda404",
   "metadata": {},
   "outputs": [
    {
     "name": "stdout",
     "output_type": "stream",
     "text": [
      "('PositionalID', 'int', 'NO', 'PRI', None, '')\n",
      "('Team', 'varchar(255)', 'NO', '', None, '')\n",
      "('MatchPlayed', 'int', 'NO', '', None, '')\n",
      "('Win', 'int', 'NO', '', None, '')\n",
      "('Draw', 'int', 'NO', '', None, '')\n",
      "('Lost', 'int', 'NO', '', None, '')\n",
      "('GoalFor', 'int', 'NO', '', None, '')\n",
      "('GoalAgainst', 'int', 'NO', '', None, '')\n",
      "('GoalDifference', 'int', 'NO', '', None, '')\n",
      "('Point', 'int', 'NO', '', None, '')\n"
     ]
    }
   ],
   "source": [
    "mycursor.execute('alter table italianleague add column MatchPlayed int not null after Team')\n",
    "mycursor.execute('show columns from italianleague')\n",
    "for x in mycursor:\n",
    "    print(x)"
   ]
  },
  {
   "cell_type": "code",
   "execution_count": 69,
   "id": "77e794a5",
   "metadata": {},
   "outputs": [
    {
     "ename": "IntegrityError",
     "evalue": "(1062, \"Duplicate entry '1' for key 'italianleague.PRIMARY'\")",
     "output_type": "error",
     "traceback": [
      "\u001b[1;31m---------------------------------------------------------------------------\u001b[0m",
      "\u001b[1;31mIntegrityError\u001b[0m                            Traceback (most recent call last)",
      "Input \u001b[1;32mIn [69]\u001b[0m, in \u001b[0;36m<cell line: 12>\u001b[1;34m()\u001b[0m\n\u001b[0;32m      1\u001b[0m sql \u001b[38;5;241m=\u001b[39m \u001b[38;5;124m'\u001b[39m\u001b[38;5;124minsert into italianleague(PositionalID,Team,MatchPlayed,Win,Draw,Lost,GoalFor,GoalAgainst,Goaldifference,Point) values (\u001b[39m\u001b[38;5;132;01m%s\u001b[39;00m\u001b[38;5;124m,\u001b[39m\u001b[38;5;132;01m%s\u001b[39;00m\u001b[38;5;124m,\u001b[39m\u001b[38;5;132;01m%s\u001b[39;00m\u001b[38;5;124m,\u001b[39m\u001b[38;5;132;01m%s\u001b[39;00m\u001b[38;5;124m,\u001b[39m\u001b[38;5;132;01m%s\u001b[39;00m\u001b[38;5;124m,\u001b[39m\u001b[38;5;132;01m%s\u001b[39;00m\u001b[38;5;124m,\u001b[39m\u001b[38;5;132;01m%s\u001b[39;00m\u001b[38;5;124m,\u001b[39m\u001b[38;5;132;01m%s\u001b[39;00m\u001b[38;5;124m,\u001b[39m\u001b[38;5;132;01m%s\u001b[39;00m\u001b[38;5;124m,\u001b[39m\u001b[38;5;132;01m%s\u001b[39;00m\u001b[38;5;124m)\u001b[39m\u001b[38;5;124m'\u001b[39m\n\u001b[0;32m      2\u001b[0m val \u001b[38;5;241m=\u001b[39m [(\u001b[38;5;241m1\u001b[39m,\u001b[38;5;124m'\u001b[39m\u001b[38;5;124mMilan\u001b[39m\u001b[38;5;124m'\u001b[39m,\u001b[38;5;241m3\u001b[39m,\u001b[38;5;241m2\u001b[39m,\u001b[38;5;241m1\u001b[39m,\u001b[38;5;241m0\u001b[39m,\u001b[38;5;241m7\u001b[39m,\u001b[38;5;241m3\u001b[39m,\u001b[38;5;241m4\u001b[39m,\u001b[38;5;241m7\u001b[39m),\n\u001b[0;32m      3\u001b[0m       (\u001b[38;5;241m2\u001b[39m,\u001b[38;5;124m'\u001b[39m\u001b[38;5;124mLazio\u001b[39m\u001b[38;5;124m'\u001b[39m,\u001b[38;5;241m3\u001b[39m,\u001b[38;5;241m2\u001b[39m,\u001b[38;5;241m1\u001b[39m,\u001b[38;5;241m0\u001b[39m,\u001b[38;5;241m5\u001b[39m,\u001b[38;5;241m2\u001b[39m,\u001b[38;5;241m3\u001b[39m,\u001b[38;5;241m7\u001b[39m),\n\u001b[0;32m      4\u001b[0m       (\u001b[38;5;241m3\u001b[39m,\u001b[38;5;124m'\u001b[39m\u001b[38;5;124mAtalanta\u001b[39m\u001b[38;5;124m'\u001b[39m,\u001b[38;5;241m3\u001b[39m,\u001b[38;5;241m2\u001b[39m,\u001b[38;5;241m1\u001b[39m,\u001b[38;5;241m0\u001b[39m,\u001b[38;5;241m4\u001b[39m,\u001b[38;5;241m1\u001b[39m,\u001b[38;5;241m3\u001b[39m,\u001b[38;5;241m7\u001b[39m),\n\u001b[1;32m   (...)\u001b[0m\n\u001b[0;32m     10\u001b[0m       (\u001b[38;5;241m9\u001b[39m,\u001b[38;5;124m'\u001b[39m\u001b[38;5;124mFiorentina\u001b[39m\u001b[38;5;124m'\u001b[39m,\u001b[38;5;241m2\u001b[39m,\u001b[38;5;241m1\u001b[39m,\u001b[38;5;241m1\u001b[39m,\u001b[38;5;241m0\u001b[39m,\u001b[38;5;241m3\u001b[39m,\u001b[38;5;241m2\u001b[39m,\u001b[38;5;241m1\u001b[39m,\u001b[38;5;241m4\u001b[39m),\n\u001b[0;32m     11\u001b[0m       (\u001b[38;5;241m10\u001b[39m,\u001b[38;5;124m'\u001b[39m\u001b[38;5;124mSalernitana\u001b[39m\u001b[38;5;124m'\u001b[39m,\u001b[38;5;241m3\u001b[39m,\u001b[38;5;241m1\u001b[39m,\u001b[38;5;241m1\u001b[39m,\u001b[38;5;241m1\u001b[39m,\u001b[38;5;241m3\u001b[39m,\u001b[38;5;241m1\u001b[39m,\u001b[38;5;241m2\u001b[39m,\u001b[38;5;241m4\u001b[39m)]\n\u001b[1;32m---> 12\u001b[0m \u001b[43mmycursor\u001b[49m\u001b[38;5;241;43m.\u001b[39;49m\u001b[43mexecutemany\u001b[49m\u001b[43m(\u001b[49m\u001b[43msql\u001b[49m\u001b[43m,\u001b[49m\u001b[43m \u001b[49m\u001b[43mval\u001b[49m\u001b[43m)\u001b[49m\n\u001b[0;32m     13\u001b[0m mydb\u001b[38;5;241m.\u001b[39mcommit()\n",
      "File \u001b[1;32m~\\anaconda3\\lib\\site-packages\\pymysql\\cursors.py:173\u001b[0m, in \u001b[0;36mCursor.executemany\u001b[1;34m(self, query, args)\u001b[0m\n\u001b[0;32m    171\u001b[0m     q_postfix \u001b[38;5;241m=\u001b[39m m\u001b[38;5;241m.\u001b[39mgroup(\u001b[38;5;241m3\u001b[39m) \u001b[38;5;129;01mor\u001b[39;00m \u001b[38;5;124m\"\u001b[39m\u001b[38;5;124m\"\u001b[39m\n\u001b[0;32m    172\u001b[0m     \u001b[38;5;28;01massert\u001b[39;00m q_values[\u001b[38;5;241m0\u001b[39m] \u001b[38;5;241m==\u001b[39m \u001b[38;5;124m\"\u001b[39m\u001b[38;5;124m(\u001b[39m\u001b[38;5;124m\"\u001b[39m \u001b[38;5;129;01mand\u001b[39;00m q_values[\u001b[38;5;241m-\u001b[39m\u001b[38;5;241m1\u001b[39m] \u001b[38;5;241m==\u001b[39m \u001b[38;5;124m\"\u001b[39m\u001b[38;5;124m)\u001b[39m\u001b[38;5;124m\"\u001b[39m\n\u001b[1;32m--> 173\u001b[0m     \u001b[38;5;28;01mreturn\u001b[39;00m \u001b[38;5;28;43mself\u001b[39;49m\u001b[38;5;241;43m.\u001b[39;49m\u001b[43m_do_execute_many\u001b[49m\u001b[43m(\u001b[49m\n\u001b[0;32m    174\u001b[0m \u001b[43m        \u001b[49m\u001b[43mq_prefix\u001b[49m\u001b[43m,\u001b[49m\n\u001b[0;32m    175\u001b[0m \u001b[43m        \u001b[49m\u001b[43mq_values\u001b[49m\u001b[43m,\u001b[49m\n\u001b[0;32m    176\u001b[0m \u001b[43m        \u001b[49m\u001b[43mq_postfix\u001b[49m\u001b[43m,\u001b[49m\n\u001b[0;32m    177\u001b[0m \u001b[43m        \u001b[49m\u001b[43margs\u001b[49m\u001b[43m,\u001b[49m\n\u001b[0;32m    178\u001b[0m \u001b[43m        \u001b[49m\u001b[38;5;28;43mself\u001b[39;49m\u001b[38;5;241;43m.\u001b[39;49m\u001b[43mmax_stmt_length\u001b[49m\u001b[43m,\u001b[49m\n\u001b[0;32m    179\u001b[0m \u001b[43m        \u001b[49m\u001b[38;5;28;43mself\u001b[39;49m\u001b[38;5;241;43m.\u001b[39;49m\u001b[43m_get_db\u001b[49m\u001b[43m(\u001b[49m\u001b[43m)\u001b[49m\u001b[38;5;241;43m.\u001b[39;49m\u001b[43mencoding\u001b[49m\u001b[43m,\u001b[49m\n\u001b[0;32m    180\u001b[0m \u001b[43m    \u001b[49m\u001b[43m)\u001b[49m\n\u001b[0;32m    182\u001b[0m \u001b[38;5;28mself\u001b[39m\u001b[38;5;241m.\u001b[39mrowcount \u001b[38;5;241m=\u001b[39m \u001b[38;5;28msum\u001b[39m(\u001b[38;5;28mself\u001b[39m\u001b[38;5;241m.\u001b[39mexecute(query, arg) \u001b[38;5;28;01mfor\u001b[39;00m arg \u001b[38;5;129;01min\u001b[39;00m args)\n\u001b[0;32m    183\u001b[0m \u001b[38;5;28;01mreturn\u001b[39;00m \u001b[38;5;28mself\u001b[39m\u001b[38;5;241m.\u001b[39mrowcount\n",
      "File \u001b[1;32m~\\anaconda3\\lib\\site-packages\\pymysql\\cursors.py:211\u001b[0m, in \u001b[0;36mCursor._do_execute_many\u001b[1;34m(self, prefix, values, postfix, args, max_stmt_length, encoding)\u001b[0m\n\u001b[0;32m    209\u001b[0m         sql \u001b[38;5;241m+\u001b[39m\u001b[38;5;241m=\u001b[39m \u001b[38;5;124mb\u001b[39m\u001b[38;5;124m\"\u001b[39m\u001b[38;5;124m,\u001b[39m\u001b[38;5;124m\"\u001b[39m\n\u001b[0;32m    210\u001b[0m     sql \u001b[38;5;241m+\u001b[39m\u001b[38;5;241m=\u001b[39m v\n\u001b[1;32m--> 211\u001b[0m rows \u001b[38;5;241m+\u001b[39m\u001b[38;5;241m=\u001b[39m \u001b[38;5;28;43mself\u001b[39;49m\u001b[38;5;241;43m.\u001b[39;49m\u001b[43mexecute\u001b[49m\u001b[43m(\u001b[49m\u001b[43msql\u001b[49m\u001b[43m \u001b[49m\u001b[38;5;241;43m+\u001b[39;49m\u001b[43m \u001b[49m\u001b[43mpostfix\u001b[49m\u001b[43m)\u001b[49m\n\u001b[0;32m    212\u001b[0m \u001b[38;5;28mself\u001b[39m\u001b[38;5;241m.\u001b[39mrowcount \u001b[38;5;241m=\u001b[39m rows\n\u001b[0;32m    213\u001b[0m \u001b[38;5;28;01mreturn\u001b[39;00m rows\n",
      "File \u001b[1;32m~\\anaconda3\\lib\\site-packages\\pymysql\\cursors.py:148\u001b[0m, in \u001b[0;36mCursor.execute\u001b[1;34m(self, query, args)\u001b[0m\n\u001b[0;32m    144\u001b[0m     \u001b[38;5;28;01mpass\u001b[39;00m\n\u001b[0;32m    146\u001b[0m query \u001b[38;5;241m=\u001b[39m \u001b[38;5;28mself\u001b[39m\u001b[38;5;241m.\u001b[39mmogrify(query, args)\n\u001b[1;32m--> 148\u001b[0m result \u001b[38;5;241m=\u001b[39m \u001b[38;5;28;43mself\u001b[39;49m\u001b[38;5;241;43m.\u001b[39;49m\u001b[43m_query\u001b[49m\u001b[43m(\u001b[49m\u001b[43mquery\u001b[49m\u001b[43m)\u001b[49m\n\u001b[0;32m    149\u001b[0m \u001b[38;5;28mself\u001b[39m\u001b[38;5;241m.\u001b[39m_executed \u001b[38;5;241m=\u001b[39m query\n\u001b[0;32m    150\u001b[0m \u001b[38;5;28;01mreturn\u001b[39;00m result\n",
      "File \u001b[1;32m~\\anaconda3\\lib\\site-packages\\pymysql\\cursors.py:310\u001b[0m, in \u001b[0;36mCursor._query\u001b[1;34m(self, q)\u001b[0m\n\u001b[0;32m    308\u001b[0m \u001b[38;5;28mself\u001b[39m\u001b[38;5;241m.\u001b[39m_last_executed \u001b[38;5;241m=\u001b[39m q\n\u001b[0;32m    309\u001b[0m \u001b[38;5;28mself\u001b[39m\u001b[38;5;241m.\u001b[39m_clear_result()\n\u001b[1;32m--> 310\u001b[0m \u001b[43mconn\u001b[49m\u001b[38;5;241;43m.\u001b[39;49m\u001b[43mquery\u001b[49m\u001b[43m(\u001b[49m\u001b[43mq\u001b[49m\u001b[43m)\u001b[49m\n\u001b[0;32m    311\u001b[0m \u001b[38;5;28mself\u001b[39m\u001b[38;5;241m.\u001b[39m_do_get_result()\n\u001b[0;32m    312\u001b[0m \u001b[38;5;28;01mreturn\u001b[39;00m \u001b[38;5;28mself\u001b[39m\u001b[38;5;241m.\u001b[39mrowcount\n",
      "File \u001b[1;32m~\\anaconda3\\lib\\site-packages\\pymysql\\connections.py:548\u001b[0m, in \u001b[0;36mConnection.query\u001b[1;34m(self, sql, unbuffered)\u001b[0m\n\u001b[0;32m    546\u001b[0m     sql \u001b[38;5;241m=\u001b[39m sql\u001b[38;5;241m.\u001b[39mencode(\u001b[38;5;28mself\u001b[39m\u001b[38;5;241m.\u001b[39mencoding, \u001b[38;5;124m\"\u001b[39m\u001b[38;5;124msurrogateescape\u001b[39m\u001b[38;5;124m\"\u001b[39m)\n\u001b[0;32m    547\u001b[0m \u001b[38;5;28mself\u001b[39m\u001b[38;5;241m.\u001b[39m_execute_command(COMMAND\u001b[38;5;241m.\u001b[39mCOM_QUERY, sql)\n\u001b[1;32m--> 548\u001b[0m \u001b[38;5;28mself\u001b[39m\u001b[38;5;241m.\u001b[39m_affected_rows \u001b[38;5;241m=\u001b[39m \u001b[38;5;28;43mself\u001b[39;49m\u001b[38;5;241;43m.\u001b[39;49m\u001b[43m_read_query_result\u001b[49m\u001b[43m(\u001b[49m\u001b[43munbuffered\u001b[49m\u001b[38;5;241;43m=\u001b[39;49m\u001b[43munbuffered\u001b[49m\u001b[43m)\u001b[49m\n\u001b[0;32m    549\u001b[0m \u001b[38;5;28;01mreturn\u001b[39;00m \u001b[38;5;28mself\u001b[39m\u001b[38;5;241m.\u001b[39m_affected_rows\n",
      "File \u001b[1;32m~\\anaconda3\\lib\\site-packages\\pymysql\\connections.py:775\u001b[0m, in \u001b[0;36mConnection._read_query_result\u001b[1;34m(self, unbuffered)\u001b[0m\n\u001b[0;32m    773\u001b[0m \u001b[38;5;28;01melse\u001b[39;00m:\n\u001b[0;32m    774\u001b[0m     result \u001b[38;5;241m=\u001b[39m MySQLResult(\u001b[38;5;28mself\u001b[39m)\n\u001b[1;32m--> 775\u001b[0m     \u001b[43mresult\u001b[49m\u001b[38;5;241;43m.\u001b[39;49m\u001b[43mread\u001b[49m\u001b[43m(\u001b[49m\u001b[43m)\u001b[49m\n\u001b[0;32m    776\u001b[0m \u001b[38;5;28mself\u001b[39m\u001b[38;5;241m.\u001b[39m_result \u001b[38;5;241m=\u001b[39m result\n\u001b[0;32m    777\u001b[0m \u001b[38;5;28;01mif\u001b[39;00m result\u001b[38;5;241m.\u001b[39mserver_status \u001b[38;5;129;01mis\u001b[39;00m \u001b[38;5;129;01mnot\u001b[39;00m \u001b[38;5;28;01mNone\u001b[39;00m:\n",
      "File \u001b[1;32m~\\anaconda3\\lib\\site-packages\\pymysql\\connections.py:1156\u001b[0m, in \u001b[0;36mMySQLResult.read\u001b[1;34m(self)\u001b[0m\n\u001b[0;32m   1154\u001b[0m \u001b[38;5;28;01mdef\u001b[39;00m \u001b[38;5;21mread\u001b[39m(\u001b[38;5;28mself\u001b[39m):\n\u001b[0;32m   1155\u001b[0m     \u001b[38;5;28;01mtry\u001b[39;00m:\n\u001b[1;32m-> 1156\u001b[0m         first_packet \u001b[38;5;241m=\u001b[39m \u001b[38;5;28;43mself\u001b[39;49m\u001b[38;5;241;43m.\u001b[39;49m\u001b[43mconnection\u001b[49m\u001b[38;5;241;43m.\u001b[39;49m\u001b[43m_read_packet\u001b[49m\u001b[43m(\u001b[49m\u001b[43m)\u001b[49m\n\u001b[0;32m   1158\u001b[0m         \u001b[38;5;28;01mif\u001b[39;00m first_packet\u001b[38;5;241m.\u001b[39mis_ok_packet():\n\u001b[0;32m   1159\u001b[0m             \u001b[38;5;28mself\u001b[39m\u001b[38;5;241m.\u001b[39m_read_ok_packet(first_packet)\n",
      "File \u001b[1;32m~\\anaconda3\\lib\\site-packages\\pymysql\\connections.py:725\u001b[0m, in \u001b[0;36mConnection._read_packet\u001b[1;34m(self, packet_type)\u001b[0m\n\u001b[0;32m    723\u001b[0m     \u001b[38;5;28;01mif\u001b[39;00m \u001b[38;5;28mself\u001b[39m\u001b[38;5;241m.\u001b[39m_result \u001b[38;5;129;01mis\u001b[39;00m \u001b[38;5;129;01mnot\u001b[39;00m \u001b[38;5;28;01mNone\u001b[39;00m \u001b[38;5;129;01mand\u001b[39;00m \u001b[38;5;28mself\u001b[39m\u001b[38;5;241m.\u001b[39m_result\u001b[38;5;241m.\u001b[39munbuffered_active \u001b[38;5;129;01mis\u001b[39;00m \u001b[38;5;28;01mTrue\u001b[39;00m:\n\u001b[0;32m    724\u001b[0m         \u001b[38;5;28mself\u001b[39m\u001b[38;5;241m.\u001b[39m_result\u001b[38;5;241m.\u001b[39munbuffered_active \u001b[38;5;241m=\u001b[39m \u001b[38;5;28;01mFalse\u001b[39;00m\n\u001b[1;32m--> 725\u001b[0m     \u001b[43mpacket\u001b[49m\u001b[38;5;241;43m.\u001b[39;49m\u001b[43mraise_for_error\u001b[49m\u001b[43m(\u001b[49m\u001b[43m)\u001b[49m\n\u001b[0;32m    726\u001b[0m \u001b[38;5;28;01mreturn\u001b[39;00m packet\n",
      "File \u001b[1;32m~\\anaconda3\\lib\\site-packages\\pymysql\\protocol.py:221\u001b[0m, in \u001b[0;36mMysqlPacket.raise_for_error\u001b[1;34m(self)\u001b[0m\n\u001b[0;32m    219\u001b[0m \u001b[38;5;28;01mif\u001b[39;00m DEBUG:\n\u001b[0;32m    220\u001b[0m     \u001b[38;5;28mprint\u001b[39m(\u001b[38;5;124m\"\u001b[39m\u001b[38;5;124merrno =\u001b[39m\u001b[38;5;124m\"\u001b[39m, errno)\n\u001b[1;32m--> 221\u001b[0m \u001b[43merr\u001b[49m\u001b[38;5;241;43m.\u001b[39;49m\u001b[43mraise_mysql_exception\u001b[49m\u001b[43m(\u001b[49m\u001b[38;5;28;43mself\u001b[39;49m\u001b[38;5;241;43m.\u001b[39;49m\u001b[43m_data\u001b[49m\u001b[43m)\u001b[49m\n",
      "File \u001b[1;32m~\\anaconda3\\lib\\site-packages\\pymysql\\err.py:143\u001b[0m, in \u001b[0;36mraise_mysql_exception\u001b[1;34m(data)\u001b[0m\n\u001b[0;32m    141\u001b[0m \u001b[38;5;28;01mif\u001b[39;00m errorclass \u001b[38;5;129;01mis\u001b[39;00m \u001b[38;5;28;01mNone\u001b[39;00m:\n\u001b[0;32m    142\u001b[0m     errorclass \u001b[38;5;241m=\u001b[39m InternalError \u001b[38;5;28;01mif\u001b[39;00m errno \u001b[38;5;241m<\u001b[39m \u001b[38;5;241m1000\u001b[39m \u001b[38;5;28;01melse\u001b[39;00m OperationalError\n\u001b[1;32m--> 143\u001b[0m \u001b[38;5;28;01mraise\u001b[39;00m errorclass(errno, errval)\n",
      "\u001b[1;31mIntegrityError\u001b[0m: (1062, \"Duplicate entry '1' for key 'italianleague.PRIMARY'\")"
     ]
    }
   ],
   "source": [
    "sql = 'insert into italianleague(PositionalID,Team,MatchPlayed,Win,Draw,Lost,GoalFor,GoalAgainst,Goaldifference,Point) values (%s,%s,%s,%s,%s,%s,%s,%s,%s,%s)'\n",
    "val = [(1,'Milan',3,2,1,0,7,3,4,7),\n",
    "      (2,'Lazio',3,2,1,0,5,2,3,7),\n",
    "      (3,'Atalanta',3,2,1,0,4,1,3,7),\n",
    "      (4,'Torino',3,2,1,0,4,2,2,7),\n",
    "      (5,'Roma',3,2,1,0,3,1,2,7),\n",
    "      (6,'Napoli',2,2,0,0,9,2,7,6),\n",
    "      (7,'Inter',3,2,0,1,6,4,2,6),\n",
    "      (8,'Juventus',3,1,2,0,4,1,3,5),\n",
    "      (9,'Fiorentina',2,1,1,0,3,2,1,4),\n",
    "      (10,'Salernitana',3,1,1,1,3,1,2,4)]\n",
    "mycursor.executemany(sql, val)\n",
    "mydb.commit()"
   ]
  },
  {
   "cell_type": "code",
   "execution_count": 70,
   "id": "4968f014",
   "metadata": {},
   "outputs": [
    {
     "name": "stdout",
     "output_type": "stream",
     "text": [
      "(1, 'Milan', 3, 2, 1, 0, 7, 3, 4, 7)\n",
      "(2, 'Lazio', 3, 2, 1, 0, 5, 2, 3, 7)\n",
      "(3, 'Atalanta', 3, 2, 1, 0, 4, 1, 3, 7)\n",
      "(4, 'Torino', 3, 2, 1, 0, 4, 2, 2, 7)\n",
      "(5, 'Roma', 3, 2, 1, 0, 3, 1, 2, 7)\n",
      "(6, 'Napoli', 2, 2, 0, 0, 9, 2, 7, 6)\n",
      "(7, 'Inter', 3, 2, 0, 1, 6, 4, 2, 6)\n",
      "(8, 'Juventus', 3, 1, 2, 0, 4, 1, 3, 5)\n",
      "(9, 'Fiorentina', 2, 1, 1, 0, 3, 2, 1, 4)\n",
      "(10, 'Salernitana', 3, 1, 1, 1, 3, 1, 2, 4)\n"
     ]
    }
   ],
   "source": [
    "mycursor.execute('select * from italianleague')\n",
    "for x in mycursor:\n",
    "    print(x)"
   ]
  },
  {
   "cell_type": "markdown",
   "id": "0e7e7728",
   "metadata": {},
   "source": [
    "# for French league"
   ]
  },
  {
   "cell_type": "code",
   "execution_count": 72,
   "id": "85cf568e",
   "metadata": {},
   "outputs": [
    {
     "data": {
      "text/plain": [
       "0"
      ]
     },
     "execution_count": 72,
     "metadata": {},
     "output_type": "execute_result"
    }
   ],
   "source": [
    "mycursor.execute('create table French_League(PositionalID int not null primary key,Team varchar(255) not null,MatchPlayed int not null,Win int not null,Draw int not null, Lost int not null, GoalFor int not null,GoalAgainst int not null,GoalDifference int not null,Point int not null)')"
   ]
  },
  {
   "cell_type": "code",
   "execution_count": 73,
   "id": "ae4b5118",
   "metadata": {},
   "outputs": [
    {
     "name": "stdout",
     "output_type": "stream",
     "text": [
      "('french_league',)\n",
      "('italianleague',)\n",
      "('spanish_league',)\n"
     ]
    }
   ],
   "source": [
    "mycursor.execute('show tables')\n",
    "for x in mycursor:\n",
    "    print(x)"
   ]
  },
  {
   "cell_type": "code",
   "execution_count": 81,
   "id": "7fb33865",
   "metadata": {},
   "outputs": [],
   "source": [
    "sql = 'insert into French_League(PositionalID,Team,MatchPlayed,Win,Draw,Lost,GoalFor,GoalAgainst,Goaldifference,Point) values (%s,%s,%s,%s,%s,%s,%s,%s,%s,%s)'\n",
    "val = [(1,'Marseille',4,3,1,0,10,3,7,10),\n",
    "      (2,'Lens',4,3,1,0,9,4,5,10),\n",
    "      (3,'PSG',3,3,0,0,17,3,14,9),\n",
    "      (4,'Lyon',3,2,1,0,7,3,4,7),\n",
    "      (5,'Lorient',3,2,1,0,5,3,2,7),\n",
    "      (6,'LOSC',4,2,1,1,9,10,-1,7),\n",
    "      (7,'Auxerre',4,2,1,1,6,7,-1,7),\n",
    "      (8,'Montpellier',4,2,0,2,13,9,4,6),\n",
    "      (9,'Clermont Foot',4,2,0,2,6,9,-3,6),\n",
    "      (10,'Toulouse',4,1,2,1,7,6,1,5)]\n",
    "mycursor.executemany(sql,val)\n",
    "mydb.commit()"
   ]
  },
  {
   "cell_type": "code",
   "execution_count": 82,
   "id": "c49b7de0",
   "metadata": {},
   "outputs": [
    {
     "name": "stdout",
     "output_type": "stream",
     "text": [
      "(1, 'Marseille', 4, 3, 1, 0, 10, 3, 7, 10)\n",
      "(2, 'Lens', 4, 3, 1, 0, 9, 4, 5, 10)\n",
      "(3, 'PSG', 3, 3, 0, 0, 17, 3, 14, 9)\n",
      "(4, 'Lyon', 3, 2, 1, 0, 7, 3, 4, 7)\n",
      "(5, 'Lorient', 3, 2, 1, 0, 5, 3, 2, 7)\n",
      "(6, 'LOSC', 4, 2, 1, 1, 9, 10, -1, 7)\n",
      "(7, 'Auxerre', 4, 2, 1, 1, 6, 7, -1, 7)\n",
      "(8, 'Montpellier', 4, 2, 0, 2, 13, 9, 4, 6)\n",
      "(9, 'Clermont Foot', 4, 2, 0, 2, 6, 9, -3, 6)\n",
      "(10, 'Toulouse', 4, 1, 2, 1, 7, 6, 1, 5)\n"
     ]
    }
   ],
   "source": [
    "mycursor.execute('select * from French_League')\n",
    "for x in mycursor:\n",
    "    print(x)"
   ]
  },
  {
   "cell_type": "code",
   "execution_count": null,
   "id": "8f771615",
   "metadata": {},
   "outputs": [],
   "source": []
  }
 ],
 "metadata": {
  "kernelspec": {
   "display_name": "Python 3 (ipykernel)",
   "language": "python",
   "name": "python3"
  },
  "language_info": {
   "codemirror_mode": {
    "name": "ipython",
    "version": 3
   },
   "file_extension": ".py",
   "mimetype": "text/x-python",
   "name": "python",
   "nbconvert_exporter": "python",
   "pygments_lexer": "ipython3",
   "version": "3.9.12"
  }
 },
 "nbformat": 4,
 "nbformat_minor": 5
}
